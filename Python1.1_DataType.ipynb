{
  "nbformat": 4,
  "nbformat_minor": 0,
  "metadata": {
    "colab": {
      "name": "Python1.1_DataType",
      "provenance": [],
      "authorship_tag": "ABX9TyNVfWqUNQ0Ow9016JeHrGHz",
      "include_colab_link": true
    },
    "kernelspec": {
      "name": "python3",
      "display_name": "Python 3"
    }
  },
  "cells": [
    {
      "cell_type": "markdown",
      "metadata": {
        "id": "view-in-github",
        "colab_type": "text"
      },
      "source": [
        "<a href=\"https://colab.research.google.com/github/krishbhowmick/Python/blob/main/Python1.1_DataType.ipynb\" target=\"_parent\"><img src=\"https://colab.research.google.com/assets/colab-badge.svg\" alt=\"Open In Colab\"/></a>"
      ]
    },
    {
      "cell_type": "markdown",
      "metadata": {
        "id": "1bTX-n2UCL5W"
      },
      "source": [
        "# **Built-in Data Types**\n",
        "\n",
        "In programming, data type is an important concept.\n",
        "\n",
        "Variables can store data of different types, and different types can do different things.\n",
        "\n",
        "Python has the following data types built-in by default, in these categories:\n",
        "\n",
        "*  **Text Type**:\tstr\n",
        "* **Numeric Types**:\tint, float, complex\n",
        "* **Sequence Types**:\tlist, tuple, range\n",
        "* **Mapping Type**:\tdict\n",
        "* **Set Types**:\tset, frozenset\n",
        "* **Boolean Type**:\tbool\n",
        "* **Binary Types**:\tbytes, bytearray, memoryview"
      ]
    },
    {
      "cell_type": "code",
      "metadata": {
        "colab": {
          "base_uri": "https://localhost:8080/"
        },
        "id": "jvo9mR8VBysS",
        "outputId": "03da4f09-c276-49dc-b1be-97fe131c290f"
      },
      "source": [
        "x = \"Hello World\"\t#str\t\n",
        "print(type(x))"
      ],
      "execution_count": 1,
      "outputs": [
        {
          "output_type": "stream",
          "text": [
            "<class 'str'>\n"
          ],
          "name": "stdout"
        }
      ]
    },
    {
      "cell_type": "code",
      "metadata": {
        "colab": {
          "base_uri": "https://localhost:8080/"
        },
        "id": "98JDWUfvDXEo",
        "outputId": "1a183989-b302-427a-9d3f-0251d75eb8cf"
      },
      "source": [
        "x = 20\t#int\t\n",
        "print(type(x))"
      ],
      "execution_count": 2,
      "outputs": [
        {
          "output_type": "stream",
          "text": [
            "<class 'int'>\n"
          ],
          "name": "stdout"
        }
      ]
    },
    {
      "cell_type": "code",
      "metadata": {
        "colab": {
          "base_uri": "https://localhost:8080/"
        },
        "id": "gHRklGC5DXHd",
        "outputId": "7f278005-f67b-4cb3-96c1-a5f1fb995a9e"
      },
      "source": [
        "x = 20.5\t#float\t\n",
        "print(type(x))"
      ],
      "execution_count": 3,
      "outputs": [
        {
          "output_type": "stream",
          "text": [
            "<class 'float'>\n"
          ],
          "name": "stdout"
        }
      ]
    },
    {
      "cell_type": "code",
      "metadata": {
        "colab": {
          "base_uri": "https://localhost:8080/"
        },
        "id": "Im3Guv1PDXJe",
        "outputId": "666d30a4-0544-4540-8818-efe1fd785700"
      },
      "source": [
        "x = 1j\t#complex\t\n",
        "print(type(x))"
      ],
      "execution_count": 4,
      "outputs": [
        {
          "output_type": "stream",
          "text": [
            "<class 'complex'>\n"
          ],
          "name": "stdout"
        }
      ]
    },
    {
      "cell_type": "code",
      "metadata": {
        "colab": {
          "base_uri": "https://localhost:8080/"
        },
        "id": "BqWza5CmDXNh",
        "outputId": "8190ea52-44b2-450e-ed7b-ba6170a38247"
      },
      "source": [
        "x = [\"apple\", \"banana\", \"cherry\"]\t#list\t\n",
        "print(type(x))"
      ],
      "execution_count": 5,
      "outputs": [
        {
          "output_type": "stream",
          "text": [
            "<class 'list'>\n"
          ],
          "name": "stdout"
        }
      ]
    },
    {
      "cell_type": "code",
      "metadata": {
        "colab": {
          "base_uri": "https://localhost:8080/"
        },
        "id": "_6tVgnTLDXQX",
        "outputId": "a7c7766b-27aa-429f-b475-60a6b536dcf0"
      },
      "source": [
        "x = (\"apple\", \"banana\", \"cherry\")\t#tuple\t\n",
        "print(type(x))"
      ],
      "execution_count": 6,
      "outputs": [
        {
          "output_type": "stream",
          "text": [
            "<class 'tuple'>\n"
          ],
          "name": "stdout"
        }
      ]
    },
    {
      "cell_type": "code",
      "metadata": {
        "colab": {
          "base_uri": "https://localhost:8080/"
        },
        "id": "pxiizu5pDXSB",
        "outputId": "0fe805e1-426f-4a77-dd1b-7822f205ed37"
      },
      "source": [
        "x = range(6)\t#range\t\n",
        "print(type(x))"
      ],
      "execution_count": 7,
      "outputs": [
        {
          "output_type": "stream",
          "text": [
            "<class 'range'>\n"
          ],
          "name": "stdout"
        }
      ]
    },
    {
      "cell_type": "code",
      "metadata": {
        "colab": {
          "base_uri": "https://localhost:8080/"
        },
        "id": "m6ExrfpmDXWG",
        "outputId": "b2dd2d6f-d266-4924-ea51-0514e51770fd"
      },
      "source": [
        "x = {\"name\" : \"John\", \"age\" : 36}\t#dict\t\n",
        "print(type(x))"
      ],
      "execution_count": 8,
      "outputs": [
        {
          "output_type": "stream",
          "text": [
            "<class 'dict'>\n"
          ],
          "name": "stdout"
        }
      ]
    },
    {
      "cell_type": "code",
      "metadata": {
        "colab": {
          "base_uri": "https://localhost:8080/"
        },
        "id": "1T3H8m5jDXYx",
        "outputId": "c6358165-08f2-4f07-9d6f-d16fb4ea7295"
      },
      "source": [
        "x = {\"apple\", \"banana\", \"cherry\"}\t#set\t\n",
        "print(type(x))"
      ],
      "execution_count": 9,
      "outputs": [
        {
          "output_type": "stream",
          "text": [
            "<class 'set'>\n"
          ],
          "name": "stdout"
        }
      ]
    },
    {
      "cell_type": "code",
      "metadata": {
        "colab": {
          "base_uri": "https://localhost:8080/"
        },
        "id": "v-9S8R50DXbi",
        "outputId": "1690da62-78fd-48f5-b792-d44f79f0ff7a"
      },
      "source": [
        "x = frozenset({\"apple\", \"banana\", \"cherry\"})\t#frozenset\t\n",
        "print(type(x))"
      ],
      "execution_count": 10,
      "outputs": [
        {
          "output_type": "stream",
          "text": [
            "<class 'frozenset'>\n"
          ],
          "name": "stdout"
        }
      ]
    },
    {
      "cell_type": "code",
      "metadata": {
        "colab": {
          "base_uri": "https://localhost:8080/"
        },
        "id": "xZQiQ-VwDXdM",
        "outputId": "c4c5b92b-d0f7-431c-a9ee-c96877ed7967"
      },
      "source": [
        "x = True\t#bool\t\n",
        "print(type(x))"
      ],
      "execution_count": 11,
      "outputs": [
        {
          "output_type": "stream",
          "text": [
            "<class 'bool'>\n"
          ],
          "name": "stdout"
        }
      ]
    },
    {
      "cell_type": "code",
      "metadata": {
        "colab": {
          "base_uri": "https://localhost:8080/"
        },
        "id": "mrVWnoQ2DXgw",
        "outputId": "94db03d3-a203-4a68-b9fc-9a471958f758"
      },
      "source": [
        "x = b\"Hello\"\t#bytes\t\n",
        "print(type(x))"
      ],
      "execution_count": 12,
      "outputs": [
        {
          "output_type": "stream",
          "text": [
            "<class 'bytes'>\n"
          ],
          "name": "stdout"
        }
      ]
    },
    {
      "cell_type": "code",
      "metadata": {
        "colab": {
          "base_uri": "https://localhost:8080/"
        },
        "id": "vCDBdu-1DXjo",
        "outputId": "0377a9fe-8d0c-40b3-ef60-629e3500cfa0"
      },
      "source": [
        "x = bytearray(5)\t#bytearray\t\n",
        "print(type(x))"
      ],
      "execution_count": 13,
      "outputs": [
        {
          "output_type": "stream",
          "text": [
            "<class 'bytearray'>\n"
          ],
          "name": "stdout"
        }
      ]
    },
    {
      "cell_type": "code",
      "metadata": {
        "colab": {
          "base_uri": "https://localhost:8080/"
        },
        "id": "oOWRkRNZDXlI",
        "outputId": "7808cedb-0b88-44b0-861d-56f9e38c9294"
      },
      "source": [
        "x = memoryview(bytes(5))\t\n",
        "print(type(x))"
      ],
      "execution_count": 14,
      "outputs": [
        {
          "output_type": "stream",
          "text": [
            "<class 'memoryview'>\n"
          ],
          "name": "stdout"
        }
      ]
    },
    {
      "cell_type": "code",
      "metadata": {
        "id": "r4daFpxrmtfR"
      },
      "source": [
        ""
      ],
      "execution_count": 14,
      "outputs": []
    }
  ]
}